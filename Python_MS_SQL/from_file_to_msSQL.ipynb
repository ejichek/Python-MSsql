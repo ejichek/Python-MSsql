{
 "cells": [
  {
   "cell_type": "code",
   "execution_count": null,
   "id": "72b80e0d",
   "metadata": {},
   "outputs": [],
   "source": [
    "import pandas as pd\n",
    "import numpy as np \n",
    "import os \n",
    "import sqlalchemy\n",
    "from collections import defaultdict\n",
    "import data "
   ]
  },
  {
   "cell_type": "code",
   "execution_count": null,
   "id": "49e262c3",
   "metadata": {},
   "outputs": [],
   "source": [
    "SERVER='Server_name'\n",
    "DB='SandBox_DB'\n",
    "DRIVER='ODBC+Driver+13+for+SQL+Server'"
   ]
  },
  {
   "cell_type": "code",
   "execution_count": null,
   "id": "18df7137",
   "metadata": {},
   "outputs": [],
   "source": [
    "df = pd.read_csv(r'path_to_csv.scv',\n",
    "                sep='|', error_bad_lines=False, encoding='UTF-8') \n",
    "\n",
    "# encoding='UTF-8' 'cp1251' 'cp1252'\n",
    "# lineterminator='\\r'"
   ]
  },
  {
   "cell_type": "code",
   "execution_count": null,
   "id": "58b419c2",
   "metadata": {},
   "outputs": [],
   "source": [
    "df = pd.read_parquet(r'path_to_parquet', engine='pyarrow')\n",
    "# engine='pyarrow' 'fastparquet'"
   ]
  },
  {
   "cell_type": "code",
   "execution_count": null,
   "id": "7e7851b1",
   "metadata": {},
   "outputs": [],
   "source": [
    "df.drop_duplicates(inplace=True)"
   ]
  },
  {
   "cell_type": "code",
   "execution_count": null,
   "id": "9ee58eb5",
   "metadata": {},
   "outputs": [],
   "source": [
    "df.head(5)"
   ]
  },
  {
   "cell_type": "code",
   "execution_count": null,
   "id": "d4e4836c",
   "metadata": {},
   "outputs": [],
   "source": [
    "cols = df.colums"
   ]
  },
  {
   "cell_type": "code",
   "execution_count": null,
   "id": "52803dbf",
   "metadata": {},
   "outputs": [],
   "source": [
    "cols  #['123','456','789'] "
   ]
  },
  {
   "cell_type": "code",
   "execution_count": null,
   "id": "d9a9456e",
   "metadata": {},
   "outputs": [],
   "source": [
    "df_1.columns = ['123','456','789'] "
   ]
  },
  {
   "cell_type": "code",
   "execution_count": null,
   "id": "9a3511ff",
   "metadata": {},
   "outputs": [],
   "source": [
    "df_1 = df_1[df_1['123'].notna()]  # убирает все строки где полк '123' NULL"
   ]
  },
  {
   "cell_type": "code",
   "execution_count": null,
   "id": "e89d5f7c",
   "metadata": {},
   "outputs": [],
   "source": [
    "prometheus_con = sqlacemy.create_engine('mssql+pyodbc://@'+SERVER+'/'+DB+'?trusted_connection=yes&driver='+DRIVER)"
   ]
  },
  {
   "cell_type": "code",
   "execution_count": null,
   "id": "2a4bb282",
   "metadata": {},
   "outputs": [],
   "source": [
    "%%time\n",
    "df_1.to_sql('ms_sql_table_name', con=prometheus_con, schema='jal', method='multi',\n",
    "           chunksize=50, if_exists='append', index=False)\n",
    "#if_exists='append' 'replace'"
   ]
  },
  {
   "cell_type": "code",
   "execution_count": null,
   "id": "526eaa0b",
   "metadata": {},
   "outputs": [],
   "source": []
  }
 ],
 "metadata": {
  "kernelspec": {
   "display_name": "Python 3",
   "language": "python",
   "name": "python3"
  },
  "language_info": {
   "codemirror_mode": {
    "name": "ipython",
    "version": 3
   },
   "file_extension": ".py",
   "mimetype": "text/x-python",
   "name": "python",
   "nbconvert_exporter": "python",
   "pygments_lexer": "ipython3",
   "version": "3.8.8"
  }
 },
 "nbformat": 4,
 "nbformat_minor": 5
}
