{
 "cells": [
  {
   "cell_type": "code",
   "execution_count": null,
   "id": "92de0ed2",
   "metadata": {},
   "outputs": [],
   "source": [
    "import pandas as pd\n",
    "import numpy as np \n",
    "import os \n",
    "import sqlalchemy\n",
    "from collections import defaultdict\n",
    "import data\n",
    "import pyodbc\n",
    "import re"
   ]
  },
  {
   "cell_type": "code",
   "execution_count": null,
   "id": "b88d29ca",
   "metadata": {},
   "outputs": [],
   "source": [
    "SERVER='Server_name'\n",
    "DB='SandBox_DB'\n",
    "DRIVER='ODBC+Driver+13+for+SQL+Server'"
   ]
  },
  {
   "cell_type": "code",
   "execution_count": null,
   "id": "16263ae1",
   "metadata": {},
   "outputs": [],
   "source": [
    "prometheus_con = sqlacemy.create_engine('mssql+pyodbc://@'+SERVER+'/'+DB+'?trusted_connection=yes&driver='+DRIVER)"
   ]
  },
  {
   "cell_type": "code",
   "execution_count": null,
   "id": "cf5d8383",
   "metadata": {},
   "outputs": [],
   "source": [
    "query = \"SELECT * FROM [SanBox_DB].[Schema].[table_name] WHERE 1=1 AND [DATE] BETWEEN '2021-01-01' AND '2022-01-01';\""
   ]
  },
  {
   "cell_type": "code",
   "execution_count": null,
   "id": "38c6f7d8",
   "metadata": {},
   "outputs": [],
   "source": [
    "col = ['123',\n",
    "       '456',\n",
    "       '789']"
   ]
  },
  {
   "cell_type": "code",
   "execution_count": null,
   "id": "eb948303",
   "metadata": {},
   "outputs": [],
   "source": [
    "%%time\n",
    "df = pdDataFrame(prometheus_con.execute(query).fetchall(), column = col)"
   ]
  },
  {
   "cell_type": "code",
   "execution_count": null,
   "id": "85992db7",
   "metadata": {},
   "outputs": [],
   "source": [
    "df.head(5)"
   ]
  },
  {
   "cell_type": "code",
   "execution_count": null,
   "id": "2acea397",
   "metadata": {},
   "outputs": [],
   "source": [
    "df"
   ]
  },
  {
   "cell_type": "code",
   "execution_count": null,
   "id": "72096ea6",
   "metadata": {},
   "outputs": [],
   "source": [
    "%%time\n",
    "df.to_csv(r'parh_to_csv',\n",
    "          sep='|', encodng='utf-8', index=False, chunksize=50)"
   ]
  },
  {
   "cell_type": "code",
   "execution_count": null,
   "id": "f8f0a65d",
   "metadata": {},
   "outputs": [],
   "source": []
  },
  {
   "cell_type": "code",
   "execution_count": null,
   "id": "f8b65e85",
   "metadata": {},
   "outputs": [],
   "source": [
    "%%time\n",
    "df = df.replace(r'\\x00', '', regex=True)"
   ]
  },
  {
   "cell_type": "code",
   "execution_count": null,
   "id": "cac79ec2",
   "metadata": {},
   "outputs": [],
   "source": [
    "df.head(5)"
   ]
  },
  {
   "cell_type": "code",
   "execution_count": null,
   "id": "a6b03740",
   "metadata": {},
   "outputs": [],
   "source": []
  },
  {
   "cell_type": "code",
   "execution_count": null,
   "id": "602b63c9",
   "metadata": {},
   "outputs": [],
   "source": []
  },
  {
   "cell_type": "code",
   "execution_count": null,
   "id": "1f085967",
   "metadata": {},
   "outputs": [],
   "source": []
  },
  {
   "cell_type": "code",
   "execution_count": null,
   "id": "9baed966",
   "metadata": {},
   "outputs": [],
   "source": [
    "%%time\n",
    "df.to_sql('ms_sql_table_name', con=prometheus_con, schema='jal', method='multi',\n",
    "           chunksize=50, if_exists='append', index=False)\n",
    "#if_exists='append' 'replace'"
   ]
  }
 ],
 "metadata": {
  "kernelspec": {
   "display_name": "Python 3",
   "language": "python",
   "name": "python3"
  },
  "language_info": {
   "codemirror_mode": {
    "name": "ipython",
    "version": 3
   },
   "file_extension": ".py",
   "mimetype": "text/x-python",
   "name": "python",
   "nbconvert_exporter": "python",
   "pygments_lexer": "ipython3",
   "version": "3.8.8"
  }
 },
 "nbformat": 4,
 "nbformat_minor": 5
}
